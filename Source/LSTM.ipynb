{
 "cells": [
  {
   "cell_type": "code",
   "execution_count": 1,
   "metadata": {},
   "outputs": [
    {
     "name": "stderr",
     "output_type": "stream",
     "text": [
      "Using TensorFlow backend.\n"
     ]
    }
   ],
   "source": [
    "from collections import Counter\n",
    "from nltk.corpus import stopwords \n",
    "from nltk.tokenize import word_tokenize\n",
    "from nltk.stem.porter import PorterStemmer\n",
    "from sklearn.feature_extraction.text import TfidfVectorizer\n",
    "from nltk import ngrams\n",
    "from sklearn.model_selection import train_test_split\n",
    "from sklearn.neural_network import MLPClassifier\n",
    "from sklearn.metrics import confusion_matrix\n",
    "from keras.models import Sequential\n",
    "from keras.models import Sequential\n",
    "from keras.layers import LSTM, CuDNNLSTM, Dense\n",
    "from keras.layers.convolutional import Conv1D\n",
    "from keras.layers.convolutional import MaxPooling1D\n",
    "from keras.layers.embeddings import Embedding\n",
    "from keras.preprocessing import sequence\n",
    "\n",
    "import pandas as pd\n",
    "import re\n",
    "import keras\n",
    "import numpy as np\n",
    "import scipy\n",
    "import copy"
   ]
  },
  {
   "cell_type": "code",
   "execution_count": 2,
   "metadata": {},
   "outputs": [],
   "source": [
    "#master_data = pd.read_csv(\"multilabels.csv\")\n",
    "#master_data = pd.read_csv(\"train.csv\")\n",
    "master_data = pd.read_csv(\"multiclass.csv\")"
   ]
  },
  {
   "cell_type": "code",
   "execution_count": 3,
   "metadata": {},
   "outputs": [],
   "source": [
    "features = np.array(master_data.iloc[:, 1])"
   ]
  },
  {
   "cell_type": "code",
   "execution_count": 4,
   "metadata": {},
   "outputs": [],
   "source": [
    "labels = np.array(master_data.iloc[:, 0])"
   ]
  },
  {
   "cell_type": "code",
   "execution_count": 5,
   "metadata": {},
   "outputs": [],
   "source": [
    "test = features\n",
    "p_data = []\n",
    "\n",
    "for eachPoint in test:\n",
    "    p_data.append([re.sub(r\"(http|ftp|https)\\S+\", \"\", str(eachPoint))])"
   ]
  },
  {
   "cell_type": "code",
   "execution_count": 6,
   "metadata": {},
   "outputs": [],
   "source": [
    "test = p_data"
   ]
  },
  {
   "cell_type": "code",
   "execution_count": 7,
   "metadata": {},
   "outputs": [],
   "source": [
    "def lowercase(arr):\n",
    "    return np.char.lower(arr)"
   ]
  },
  {
   "cell_type": "code",
   "execution_count": 8,
   "metadata": {},
   "outputs": [],
   "source": [
    "def removeStopWords(arr):\n",
    "    stopWords = set(stopwords.words('english'))\n",
    "    \n",
    "    filteredWords = []\n",
    "    for a in arr:\n",
    "        words = word_tokenize(str(a[0]))\n",
    "        wordsFiltered = \"\"\n",
    "        for w in words:\n",
    "            if w not in stopWords:\n",
    "                wordsFiltered = wordsFiltered + \" \" + w\n",
    "        filteredWords.append([wordsFiltered[:len(wordsFiltered)-1]])\n",
    "    a = np.asarray(filteredWords)\n",
    "    return np.char.strip(a)"
   ]
  },
  {
   "cell_type": "code",
   "execution_count": 9,
   "metadata": {},
   "outputs": [],
   "source": [
    "def removeSymbols(arr):\n",
    "    symbols = \"!\\\"#$%&'()*+,-./:;<=>?@[\\]^_`{|}~\"\n",
    "    for i in range(len(symbols)):\n",
    "        arr = np.char.replace(arr, symbols[i], '')   \n",
    "    return np.char.replace(arr, \"  \", \" \")"
   ]
  },
  {
   "cell_type": "code",
   "execution_count": 10,
   "metadata": {},
   "outputs": [],
   "source": [
    "def stemming(word):\n",
    "    porter_stemmer=PorterStemmer()\n",
    "    filteredWords = []\n",
    "    for a in word:\n",
    "        words = word_tokenize(str(a[0]))\n",
    "        wordsFiltered = \"\"\n",
    "        for w in words:\n",
    "            wordsFiltered = wordsFiltered + \" \" + porter_stemmer.stem(w)\n",
    "        filteredWords.append([wordsFiltered[:len(wordsFiltered)-1]])\n",
    "    a = np.asarray(filteredWords)\n",
    "    return np.char.strip(a)"
   ]
  },
  {
   "cell_type": "code",
   "execution_count": 11,
   "metadata": {},
   "outputs": [],
   "source": [
    "def removeImplicitNoise(arr):\n",
    "    return np.char.replace (arr, 'NEWLINE_TOKEN', '')"
   ]
  },
  {
   "cell_type": "code",
   "execution_count": 12,
   "metadata": {
    "scrolled": false
   },
   "outputs": [],
   "source": [
    "def processClean(data):\n",
    "    a = removeImplicitNoise(data)\n",
    "    a = lowercase(a)\n",
    "    a = removeStopWords(a)\n",
    "    a = removeSymbols(a)\n",
    "    a = stemming(a)\n",
    "    return a\n",
    "\n",
    "a = processClean(test)"
   ]
  },
  {
   "cell_type": "code",
   "execution_count": 13,
   "metadata": {
    "scrolled": true
   },
   "outputs": [],
   "source": [
    "list_l = []\n",
    "\n",
    "for i in a:\n",
    "    list_l.append(str(i[0]))"
   ]
  },
  {
   "cell_type": "code",
   "execution_count": 14,
   "metadata": {},
   "outputs": [],
   "source": [
    "def make_grams(data, n = 2):\n",
    "    \n",
    "    grammed_data = []\n",
    "    \n",
    "    for i in data:\n",
    "\n",
    "        k = copy.deepcopy(i)\n",
    "\n",
    "        for r in range(2,n+1):\n",
    "            sixgrams = ngrams(i.split(), r)\n",
    "\n",
    "            for grams in sixgrams:\n",
    "                g = \"\"\n",
    "                for p in grams:\n",
    "                    g = g+p\n",
    "\n",
    "                k = k+\" \"+g\n",
    "        grammed_data.append(k)\n",
    "    \n",
    "    return grammed_data\n",
    "\n",
    "grammed_data = make_grams(list_l)"
   ]
  },
  {
   "cell_type": "code",
   "execution_count": 15,
   "metadata": {},
   "outputs": [
    {
     "name": "stdout",
     "output_type": "stream",
     "text": [
      "(4500, 81065)\n"
     ]
    }
   ],
   "source": [
    "#Bag of Words\n",
    "from sklearn.feature_extraction.text import CountVectorizer\n",
    "\n",
    "vectorizer = CountVectorizer()\n",
    "vectorizer.fit(grammed_data)\n",
    "vector = vectorizer.transform(grammed_data)\n",
    "\n",
    "feature_vector = vector.toarray()\n",
    "print(feature_vector.shape)"
   ]
  },
  {
   "cell_type": "code",
   "execution_count": 16,
   "metadata": {},
   "outputs": [
    {
     "name": "stdout",
     "output_type": "stream",
     "text": [
      "(4500, 81065)\n"
     ]
    }
   ],
   "source": [
    "# TF-IDF\n",
    "vectorizer = TfidfVectorizer()\n",
    "vectorizer.fit(grammed_data)\n",
    "vector = vectorizer.transform(grammed_data)\n",
    "\n",
    "feature_vector = vector.toarray()\n",
    "print(vector.shape)"
   ]
  },
  {
   "cell_type": "code",
   "execution_count": 17,
   "metadata": {},
   "outputs": [],
   "source": [
    "X_train, X_test, y_train, y_test = train_test_split(feature_vector, labels, test_size=0.10, random_state=42)"
   ]
  },
  {
   "cell_type": "code",
   "execution_count": null,
   "metadata": {},
   "outputs": [],
   "source": []
  },
  {
   "cell_type": "code",
   "execution_count": 18,
   "metadata": {},
   "outputs": [
    {
     "name": "stdout",
     "output_type": "stream",
     "text": [
      "[0 2 0 ... 2 2 0]\n",
      "[[1 0 0]\n",
      " [0 0 1]\n",
      " [1 0 0]\n",
      " ...\n",
      " [0 0 1]\n",
      " [0 0 1]\n",
      " [1 0 0]]\n"
     ]
    }
   ],
   "source": [
    "from keras.utils import to_categorical\n",
    "\n",
    "data = y_train\n",
    "print(data)\n",
    "\n",
    "def encode(data):\n",
    "    encoded = to_categorical(data,dtype='int')\n",
    "    return encoded\n",
    "\n",
    "encoded_data = encode(data)\n",
    "print(encoded_data)"
   ]
  },
  {
   "cell_type": "code",
   "execution_count": 19,
   "metadata": {},
   "outputs": [],
   "source": [
    "data = y_test\n",
    "\n",
    "def encode(data):\n",
    "    encoded = to_categorical(data,dtype='int')\n",
    "    return encoded\n",
    "\n",
    "encoded_data_test = encode(data)"
   ]
  },
  {
   "cell_type": "code",
   "execution_count": null,
   "metadata": {},
   "outputs": [],
   "source": []
  },
  {
   "cell_type": "code",
   "execution_count": 20,
   "metadata": {},
   "outputs": [
    {
     "name": "stdout",
     "output_type": "stream",
     "text": [
      "_________________________________________________________________\n",
      "Layer (type)                 Output Shape              Param #   \n",
      "=================================================================\n",
      "embedding_1 (Embedding)      (None, 2000, 50)          500000    \n",
      "_________________________________________________________________\n",
      "conv1d_1 (Conv1D)            (None, 2000, 32)          4832      \n",
      "_________________________________________________________________\n",
      "max_pooling1d_1 (MaxPooling1 (None, 1000, 32)          0         \n",
      "_________________________________________________________________\n",
      "cu_dnnlstm_1 (CuDNNLSTM)     (None, 18)                3744      \n",
      "_________________________________________________________________\n",
      "dense_1 (Dense)              (None, 3)                 57        \n",
      "=================================================================\n",
      "Total params: 508,633\n",
      "Trainable params: 508,633\n",
      "Non-trainable params: 0\n",
      "_________________________________________________________________\n",
      "None\n",
      "Epoch 1/10\n",
      "4050/4050 [==============================] - 5s 1ms/step - loss: 0.6386 - acc: 0.6667\n",
      "Epoch 2/10\n",
      "4050/4050 [==============================] - 3s 661us/step - loss: 0.6377 - acc: 0.6667\n",
      "Epoch 3/10\n",
      "4050/4050 [==============================] - 3s 658us/step - loss: 0.6374 - acc: 0.6667\n",
      "Epoch 4/10\n",
      "4050/4050 [==============================] - 3s 656us/step - loss: 0.6373 - acc: 0.6667\n",
      "Epoch 5/10\n",
      "4050/4050 [==============================] - 3s 657us/step - loss: 0.6372 - acc: 0.6667\n",
      "Epoch 6/10\n",
      "4050/4050 [==============================] - 3s 661us/step - loss: 0.6372 - acc: 0.6667\n",
      "Epoch 7/10\n",
      "4050/4050 [==============================] - 3s 667us/step - loss: 0.6369 - acc: 0.6667\n",
      "Epoch 8/10\n",
      "4050/4050 [==============================] - 3s 660us/step - loss: 0.6371 - acc: 0.6667\n",
      "Epoch 9/10\n",
      "4050/4050 [==============================] - 3s 656us/step - loss: 0.6370 - acc: 0.6667\n",
      "Epoch 10/10\n",
      "4050/4050 [==============================] - 3s 658us/step - loss: 0.6367 - acc: 0.6667\n",
      "Accuracy: 66.67%\n"
     ]
    }
   ],
   "source": [
    "top_words = 10000\n",
    "\n",
    "max_review_length = 2000\n",
    "\n",
    "X_train = sequence.pad_sequences(X_train, maxlen=max_review_length)\n",
    "X_test = sequence.pad_sequences(X_test, maxlen=max_review_length)\n",
    "\n",
    "embedding_vecor_length = 50\n",
    "\n",
    "model = Sequential()\n",
    "model.add(Embedding(top_words, embedding_vecor_length, input_length=max_review_length))\n",
    "model.add(Conv1D(filters=32, kernel_size=3, padding='same', activation='exponential'))\n",
    "model.add(MaxPooling1D(pool_size=2))\n",
    "model.add(CuDNNLSTM(18))\n",
    "model.add(Dense(3, activation='softmax'))\n",
    "\n",
    "opt = keras.optimizers.SGD(lr=0.1)\n",
    "model.compile(loss='binary_crossentropy', optimizer='adam', metrics=['accuracy'])\n",
    "\n",
    "print(model.summary())\n",
    "\n",
    "model.fit(X_train[0:10000], encoded_data[0:10000], epochs=10, batch_size=64)\n",
    "\n",
    "scores = model.evaluate(X_test[0:10000], encoded_data_test[0:10000], verbose=0)\n",
    "print(\"Accuracy: %.2f%%\" % (scores[1]*100))"
   ]
  },
  {
   "cell_type": "code",
   "execution_count": null,
   "metadata": {},
   "outputs": [],
   "source": []
  },
  {
   "cell_type": "code",
   "execution_count": 25,
   "metadata": {},
   "outputs": [
    {
     "name": "stdout",
     "output_type": "stream",
     "text": [
      "[0.         0.         0.52459016]\n",
      "             precision    recall  f1-score   support\n",
      "\n",
      "          0       0.00      0.00      0.00       152\n",
      "          1       0.00      0.00      0.00       138\n",
      "          2       0.36      1.00      0.52       160\n",
      "\n",
      "avg / total       0.13      0.36      0.19       450\n",
      "\n"
     ]
    },
    {
     "name": "stderr",
     "output_type": "stream",
     "text": [
      "/usr/local/lib/python3.5/site-packages/sklearn/metrics/classification.py:1135: UndefinedMetricWarning: Precision and F-score are ill-defined and being set to 0.0 in labels with no predicted samples.\n",
      "  'precision', 'predicted', average, warn_for)\n"
     ]
    }
   ],
   "source": [
    "text_labels=encode(y_test)\n",
    "y_predicted=[]\n",
    "for i in range(len(X_test)):\n",
    "    prediction = model.predict(np.array([X_test[i]]))\n",
    "    predicted_label = np.argmax(prediction[0])\n",
    "    y_predicted.append(predicted_label)\n",
    "\n",
    "print(f1_score(y_test,y_predicted,average=None))\n",
    "print(classification_report(y_test,y_predicted))"
   ]
  },
  {
   "cell_type": "code",
   "execution_count": 24,
   "metadata": {},
   "outputs": [],
   "source": [
    "from sklearn.metrics import f1_score, classification_report"
   ]
  },
  {
   "cell_type": "code",
   "execution_count": null,
   "metadata": {},
   "outputs": [],
   "source": []
  }
 ],
 "metadata": {
  "kernelspec": {
   "display_name": "Python 3",
   "language": "python",
   "name": "python3"
  },
  "language_info": {
   "codemirror_mode": {
    "name": "ipython",
    "version": 3
   },
   "file_extension": ".py",
   "mimetype": "text/x-python",
   "name": "python",
   "nbconvert_exporter": "python",
   "pygments_lexer": "ipython3",
   "version": "3.7.0"
  }
 },
 "nbformat": 4,
 "nbformat_minor": 2
}
